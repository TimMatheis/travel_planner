{
 "cells": [
  {
   "cell_type": "markdown",
   "metadata": {},
   "source": [
    "## Set up the basics"
   ]
  },
  {
   "cell_type": "code",
   "execution_count": null,
   "metadata": {},
   "outputs": [],
   "source": [
    "import tkinter as tk\n",
    "from tkinter import ttk\n",
    "from ctypes import windll\n",
    "from tkinter.messagebox import showinfo\n",
    "windll.shcore.SetProcessDpiAwareness(1)\n",
    "\n",
    "root = tk.Tk()\n",
    "root.title(\"Travel Planner\")\n",
    "root.geometry('1500x1000+50+50')\n",
    "root.attributes('-topmost', 1)\n",
    "\n",
    "# Place a label on the root window\n",
    "message = tk.Label(root, text=\"This is your travel planner!\") #This creates a widget\n",
    "message.pack() #This unpacks the widget to the main window"
   ]
  },
  {
   "cell_type": "markdown",
   "metadata": {},
   "source": [
    "## Create the first option"
   ]
  },
  {
   "cell_type": "code",
   "execution_count": 39,
   "metadata": {},
   "outputs": [],
   "source": [
    "selected_type = tk.StringVar()\n",
    "types = (('Sightseeing', 'Sightseeing'),\n",
    "         ('Outdoor', 'Outdoor'),\n",
    "         ('Beach', 'Beach'),\n",
    "         ('Party', 'Party'))\n",
    "\n",
    "label_type = ttk.Label(text=\"What's your favourite type of holiday?\")\n",
    "label_type.pack(fill='x', padx=5, pady=5)\n",
    "\n",
    "\n",
    "for type in types:\n",
    "    t = ttk.Radiobutton(\n",
    "        root,\n",
    "        text=type[0],\n",
    "        value=type[1],\n",
    "        variable=selected_type\n",
    "    )\n",
    "    t.pack(fill='x', padx=5, pady=5)\n",
    "\n",
    "separator_1 = ttk.Separator(root, orient='horizontal')\n",
    "separator_1.pack(fill='x')\n"
   ]
  },
  {
   "cell_type": "markdown",
   "metadata": {},
   "source": [
    "## Create the second option"
   ]
  },
  {
   "cell_type": "code",
   "execution_count": 40,
   "metadata": {},
   "outputs": [],
   "source": [
    "selected_season = tk.StringVar()\n",
    "seasons = (('Winter', 'winter'),\n",
    "         ('Spring', 'spring'),\n",
    "         ('Summer', 'summer'),\n",
    "         ('Autumn', 'autumn'))\n",
    "\n",
    "label_season = ttk.Label(text=\"In which season do you want to travel?\")\n",
    "label_season.pack(fill='x', padx=5, pady=5)\n",
    "\n",
    "for season in seasons:\n",
    "    s = ttk.Radiobutton(\n",
    "        root,\n",
    "        text=season[0],\n",
    "        value=season[1],\n",
    "        variable=selected_season\n",
    "    )\n",
    "    s.pack(fill='x', padx=5, pady=5)\n",
    "\n",
    "separator_1 = ttk.Separator(root, orient='horizontal')\n",
    "separator_1.pack(fill='x')"
   ]
  },
  {
   "cell_type": "markdown",
   "metadata": {},
   "source": [
    "## Create the ranking in Python"
   ]
  },
  {
   "cell_type": "code",
   "execution_count": 41,
   "metadata": {},
   "outputs": [],
   "source": [
    "message_2 = tk.Label(root, text=\"Please select the priorities for your travel planner\") #This creates a widget\n",
    "message_2.pack() #This unpacks the widget to the main window\n",
    "\n",
    "# Label 1\n",
    "label_ranking = ttk.Label(text=\"Please select your first priority:\")\n",
    "label_ranking.pack(fill=tk.X, padx=5, pady=5)\n",
    "\n",
    "\n",
    "selected_priority_1 = tk.StringVar()\n",
    "selected_priority_2 = tk.StringVar()\n",
    "selected_priority_3 = tk.StringVar()\n",
    "selected_priority_4 = tk.StringVar()\n",
    "selected_priority_5 = tk.StringVar()\n",
    "\n",
    "# Create Combobox\n",
    "priorities = ('Budget',\n",
    "                'Flight time',\n",
    "                'CO2',\n",
    "                'Temperature',\n",
    "                'Rain probability'\n",
    "            )\n",
    "\n",
    "rankings_1 = ttk.Combobox(textvariable = selected_priority_1,\n",
    "                          state = \"readonly\",\n",
    "                          values = priorities)\n",
    "\n",
    "rankings_1.current(0) \n",
    "rankings_1.pack()\n",
    "\n",
    "# Label 2\n",
    "label_ranking = ttk.Label(text=\"Please select your second priority:\")\n",
    "label_ranking.pack(fill=tk.X, padx=5, pady=5)\n",
    "\n",
    "rankings_2 = ttk.Combobox(textvariable = selected_priority_2,\n",
    "                          state = \"readonly\",\n",
    "                          values = priorities)\n",
    "\n",
    "rankings_2.current(0) \n",
    "rankings_2.pack()\n",
    "\n",
    "# Label 3\n",
    "label_ranking = ttk.Label(text=\"Please select your third priority:\")\n",
    "label_ranking.pack(fill=tk.X, padx=5, pady=5)\n",
    "\n",
    "rankings_3 = ttk.Combobox(textvariable = selected_priority_3,\n",
    "                          state = \"readonly\",\n",
    "                          values = priorities)\n",
    "\n",
    "rankings_3.current(0) \n",
    "rankings_3.pack()\n",
    "\n",
    "# Label 4\n",
    "label_ranking = ttk.Label(text=\"Please select your fourth priority:\")\n",
    "label_ranking.pack(fill=tk.X, padx=5, pady=5)\n",
    "\n",
    "rankings_4 = ttk.Combobox(textvariable = selected_priority_4,\n",
    "                          state = \"readonly\",\n",
    "                          values = priorities)\n",
    "\n",
    "rankings_4.current(0) \n",
    "rankings_4.pack()\n",
    "\n",
    "# Label 5\n",
    "label_ranking = ttk.Label(text=\"Please select your fifth priority:\")\n",
    "label_ranking.pack(fill=tk.X, padx=5, pady=5)\n",
    "\n",
    "rankings_5 = ttk.Combobox(textvariable = selected_priority_5,\n",
    "                          state = \"readonly\",\n",
    "                          values = priorities)\n",
    "\n",
    "rankings_5.current(0) \n",
    "rankings_5.pack()"
   ]
  },
  {
   "cell_type": "markdown",
   "metadata": {},
   "source": [
    "## Submit Button"
   ]
  },
  {
   "cell_type": "code",
   "execution_count": 42,
   "metadata": {},
   "outputs": [],
   "source": [
    "submit_button = ttk.Button(root, text=\"Submit\", command=root.destroy)\n",
    "submit_button.pack(ipadx=5,\n",
    "    ipady=5,\n",
    "    expand=True\n",
    ")"
   ]
  },
  {
   "cell_type": "markdown",
   "metadata": {},
   "source": [
    "## Keep the window displaying"
   ]
  },
  {
   "cell_type": "code",
   "execution_count": 43,
   "metadata": {},
   "outputs": [],
   "source": [
    "root.mainloop()\n",
    "\n",
    "user_activity = selected_type.get()\n",
    "user_season = selected_season.get()\n",
    "user_prio1 = selected_priority_1.get()\n",
    "user_prio2 = selected_priority_2.get()\n",
    "user_prio3 = selected_priority_3.get()\n",
    "user_prio4 = selected_priority_4.get()\n",
    "user_prio5 = selected_priority_5.get()"
   ]
  },
  {
   "cell_type": "markdown",
   "metadata": {},
   "source": [
    "## Give out user input"
   ]
  },
  {
   "cell_type": "code",
   "execution_count": 44,
   "metadata": {},
   "outputs": [
    {
     "name": "stdout",
     "output_type": "stream",
     "text": [
      "\n",
      "\n",
      "Budget\n",
      "Budget\n",
      "Budget\n",
      "Budget\n",
      "Budget\n"
     ]
    }
   ],
   "source": [
    "print(user_activity)\n",
    "print(user_season)\n",
    "print(user_prio1)\n",
    "print(user_prio2)\n",
    "print(user_prio3)\n",
    "print(user_prio4)\n",
    "print(user_prio5)"
   ]
  }
 ],
 "metadata": {
  "interpreter": {
   "hash": "f31c1fe1c36aaa4d32cb0816fd78552f0caa11e77dcf57aa2899123b61a94662"
  },
  "kernelspec": {
   "display_name": "Python 3.10.4 64-bit",
   "language": "python",
   "name": "python3"
  },
  "language_info": {
   "codemirror_mode": {
    "name": "ipython",
    "version": 3
   },
   "file_extension": ".py",
   "mimetype": "text/x-python",
   "name": "python",
   "nbconvert_exporter": "python",
   "pygments_lexer": "ipython3",
   "version": "3.10.4"
  },
  "orig_nbformat": 4
 },
 "nbformat": 4,
 "nbformat_minor": 2
}
